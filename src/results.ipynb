{
 "cells": [
  {
   "cell_type": "code",
   "execution_count": 2,
   "id": "17d728b9-975e-4ef8-9708-e67f4909ae6b",
   "metadata": {},
   "outputs": [],
   "source": [
    "import pandas as pd"
   ]
  },
  {
   "cell_type": "code",
   "execution_count": 3,
   "id": "ccf324e4-7f09-47cb-a543-9ed1e9f9fcaf",
   "metadata": {},
   "outputs": [],
   "source": [
    "df = pd.read_csv(\"sporadic_result.csv\")"
   ]
  },
  {
   "cell_type": "code",
   "execution_count": 4,
   "id": "c342b325-f196-4d65-9f62-d4204146f0a7",
   "metadata": {},
   "outputs": [
    {
     "data": {
      "text/html": [
       "<div>\n",
       "<style scoped>\n",
       "    .dataframe tbody tr th:only-of-type {\n",
       "        vertical-align: middle;\n",
       "    }\n",
       "\n",
       "    .dataframe tbody tr th {\n",
       "        vertical-align: top;\n",
       "    }\n",
       "\n",
       "    .dataframe thead th {\n",
       "        text-align: right;\n",
       "    }\n",
       "</style>\n",
       "<table border=\"1\" class=\"dataframe\">\n",
       "  <thead>\n",
       "    <tr style=\"text-align: right;\">\n",
       "      <th></th>\n",
       "      <th>Unnamed: 0</th>\n",
       "      <th>u</th>\n",
       "      <th>res</th>\n",
       "      <th>n</th>\n",
       "      <th>time</th>\n",
       "      <th>nbt</th>\n",
       "    </tr>\n",
       "  </thead>\n",
       "  <tbody>\n",
       "    <tr>\n",
       "      <th>0</th>\n",
       "      <td>0</td>\n",
       "      <td>0.00</td>\n",
       "      <td>True</td>\n",
       "      <td>100</td>\n",
       "      <td>0.714218</td>\n",
       "      <td>2</td>\n",
       "    </tr>\n",
       "    <tr>\n",
       "      <th>1</th>\n",
       "      <td>1</td>\n",
       "      <td>0.00</td>\n",
       "      <td>True</td>\n",
       "      <td>288</td>\n",
       "      <td>2.171624</td>\n",
       "      <td>2</td>\n",
       "    </tr>\n",
       "    <tr>\n",
       "      <th>2</th>\n",
       "      <td>2</td>\n",
       "      <td>0.00</td>\n",
       "      <td>True</td>\n",
       "      <td>64</td>\n",
       "      <td>1.973922</td>\n",
       "      <td>2</td>\n",
       "    </tr>\n",
       "    <tr>\n",
       "      <th>3</th>\n",
       "      <td>3</td>\n",
       "      <td>0.00</td>\n",
       "      <td>True</td>\n",
       "      <td>38</td>\n",
       "      <td>0.366872</td>\n",
       "      <td>2</td>\n",
       "    </tr>\n",
       "    <tr>\n",
       "      <th>4</th>\n",
       "      <td>4</td>\n",
       "      <td>0.00</td>\n",
       "      <td>True</td>\n",
       "      <td>120</td>\n",
       "      <td>1.882433</td>\n",
       "      <td>2</td>\n",
       "    </tr>\n",
       "    <tr>\n",
       "      <th>...</th>\n",
       "      <td>...</td>\n",
       "      <td>...</td>\n",
       "      <td>...</td>\n",
       "      <td>...</td>\n",
       "      <td>...</td>\n",
       "      <td>...</td>\n",
       "    </tr>\n",
       "    <tr>\n",
       "      <th>995</th>\n",
       "      <td>995</td>\n",
       "      <td>0.99</td>\n",
       "      <td>True</td>\n",
       "      <td>112</td>\n",
       "      <td>1.895424</td>\n",
       "      <td>2</td>\n",
       "    </tr>\n",
       "    <tr>\n",
       "      <th>996</th>\n",
       "      <td>996</td>\n",
       "      <td>0.99</td>\n",
       "      <td>True</td>\n",
       "      <td>136</td>\n",
       "      <td>1.331552</td>\n",
       "      <td>2</td>\n",
       "    </tr>\n",
       "    <tr>\n",
       "      <th>997</th>\n",
       "      <td>997</td>\n",
       "      <td>0.99</td>\n",
       "      <td>True</td>\n",
       "      <td>54</td>\n",
       "      <td>1.259861</td>\n",
       "      <td>2</td>\n",
       "    </tr>\n",
       "    <tr>\n",
       "      <th>998</th>\n",
       "      <td>998</td>\n",
       "      <td>0.99</td>\n",
       "      <td>True</td>\n",
       "      <td>194</td>\n",
       "      <td>1.538668</td>\n",
       "      <td>2</td>\n",
       "    </tr>\n",
       "    <tr>\n",
       "      <th>999</th>\n",
       "      <td>999</td>\n",
       "      <td>0.99</td>\n",
       "      <td>True</td>\n",
       "      <td>40</td>\n",
       "      <td>0.558319</td>\n",
       "      <td>2</td>\n",
       "    </tr>\n",
       "  </tbody>\n",
       "</table>\n",
       "<p>1000 rows × 6 columns</p>\n",
       "</div>"
      ],
      "text/plain": [
       "     Unnamed: 0     u   res    n      time  nbt\n",
       "0             0  0.00  True  100  0.714218    2\n",
       "1             1  0.00  True  288  2.171624    2\n",
       "2             2  0.00  True   64  1.973922    2\n",
       "3             3  0.00  True   38  0.366872    2\n",
       "4             4  0.00  True  120  1.882433    2\n",
       "..          ...   ...   ...  ...       ...  ...\n",
       "995         995  0.99  True  112  1.895424    2\n",
       "996         996  0.99  True  136  1.331552    2\n",
       "997         997  0.99  True   54  1.259861    2\n",
       "998         998  0.99  True  194  1.538668    2\n",
       "999         999  0.99  True   40  0.558319    2\n",
       "\n",
       "[1000 rows x 6 columns]"
      ]
     },
     "execution_count": 4,
     "metadata": {},
     "output_type": "execute_result"
    }
   ],
   "source": [
    "df"
   ]
  },
  {
   "cell_type": "code",
   "execution_count": 11,
   "id": "41b0e0de-88f8-4149-9f40-2049379824b7",
   "metadata": {},
   "outputs": [
    {
     "data": {
      "text/plain": [
       "30"
      ]
     },
     "execution_count": 11,
     "metadata": {},
     "output_type": "execute_result"
    }
   ],
   "source": [
    "(~df[\"res\"]).sum()"
   ]
  },
  {
   "cell_type": "code",
   "execution_count": null,
   "id": "09370b21-8529-4a0d-9c8a-045734d901dd",
   "metadata": {},
   "outputs": [],
   "source": []
  }
 ],
 "metadata": {
  "kernelspec": {
   "display_name": "Python 3 (ipykernel)",
   "language": "python",
   "name": "python3"
  },
  "language_info": {
   "codemirror_mode": {
    "name": "ipython",
    "version": 3
   },
   "file_extension": ".py",
   "mimetype": "text/x-python",
   "name": "python",
   "nbconvert_exporter": "python",
   "pygments_lexer": "ipython3",
   "version": "3.8.8"
  }
 },
 "nbformat": 4,
 "nbformat_minor": 5
}
