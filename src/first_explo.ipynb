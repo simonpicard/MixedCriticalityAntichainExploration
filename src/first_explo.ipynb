{
 "cells": [
  {
   "cell_type": "code",
   "execution_count": 1,
   "id": "62b235c8-a72a-4cfa-b241-decf08883137",
   "metadata": {},
   "outputs": [],
   "source": [
    "import SetGenerator"
   ]
  },
  {
   "cell_type": "code",
   "execution_count": 2,
   "id": "a41067e7-6cae-4893-97f1-f2bd8a45e452",
   "metadata": {},
   "outputs": [],
   "source": [
    "import pandas as pd\n",
    "import PeriodicGraph\n",
    "import Task\n",
    "import TaskSet\n",
    "\n",
    "\n",
    "def get_execution_transition(ss):\n",
    "    ss.loc[ss[\"t_id\"] == ss[\"sched_id\"], \"rct\"] -= 1\n",
    "    ss.loc[ss[\"X\"] >= ss[\"crit\"], \"at\"] -= 1\n",
    "    return ss\n",
    "\n",
    "\n",
    "def get_done_scope(ss):\n",
    "    scope = ss[\"rct\"] == 0\n",
    "    scope &= ss[\"X\"] == ss[\"crit\"]\n",
    "    return scope\n",
    "\n",
    "\n",
    "def get_c_at_k(ss, k):\n",
    "    return [ss.at[x] for x in list(zip(ss.index, k))]\n",
    "\n",
    "\n",
    "def get_termination_transition(ss, signal=False):\n",
    "    terminate_scope = get_done_scope(ss)\n",
    "\n",
    "    if signal:\n",
    "        terminate_scope |= ss[\"t_id\"] == ss[\"sched_id\"]\n",
    "\n",
    "    new_rct = get_c_at_k(\n",
    "        ss.loc[terminate_scope], ss.loc[terminate_scope, \"crit\"]\n",
    "    )\n",
    "\n",
    "    ss.loc[terminate_scope, \"rct\"] = new_rct\n",
    "    ss.loc[terminate_scope, \"at\"] += ss.loc[terminate_scope, \"T\"]\n",
    "    return ss\n",
    "\n",
    "\n",
    "def get_termination_transitions(ss):\n",
    "    ss_done_0 = get_termination_transition(ss.copy(), signal=False)\n",
    "    ss_done_1 = get_termination_transition(ss.copy(), signal=True)\n",
    "    max_id = ss_done_0[\"ss_id\"].max()\n",
    "    n_tasks = ss_done_0[\"t_id\"].max() + 1\n",
    "    ss_done_1[\"ss_id\"] = [\n",
    "        i\n",
    "        for i in range(\n",
    "            max_id + 1, max_id + 1 + int(ss_done_1.shape[0] / n_tasks)\n",
    "        )\n",
    "        for _ in range(n_tasks)\n",
    "    ]\n",
    "    # range(max_id+1,max_id+1+ss_done_1.shape[0])\n",
    "    ss_done = pd.concat([ss_done_0, ss_done_1], ignore_index=True)\n",
    "    return ss_done\n",
    "\n",
    "\n",
    "def get_active_scope(ss):\n",
    "    scope = ss[\"at\"] < 0\n",
    "    scope |= (ss[\"at\"] == 0) & (ss[\"rct\"] > 0)\n",
    "    return scope\n",
    "\n",
    "\n",
    "def get_crit(ss):\n",
    "    scope = get_active_scope(ss)\n",
    "    scope &= ss[\"rct\"] == 0\n",
    "    ss_scope = ss[\"ss_id\"].isin(ss.loc[scope, \"ss_id\"].unique())\n",
    "    new_crit = ss[\"crit\"].copy()\n",
    "    new_crit.loc[ss_scope] += 1\n",
    "    return new_crit\n",
    "\n",
    "\n",
    "def get_critical_transition(ss):\n",
    "    new_crit = get_crit(ss)\n",
    "\n",
    "    still_active = (ss[\"X\"] >= new_crit) & (new_crit != ss[\"crit\"])\n",
    "\n",
    "    if still_active.any():\n",
    "\n",
    "        current_rct = get_c_at_k(\n",
    "            ss.loc[still_active], ss.loc[still_active, \"crit\"]\n",
    "        )\n",
    "        next_rct = get_c_at_k(ss.loc[still_active], new_crit.loc[still_active])\n",
    "\n",
    "        ss.loc[still_active, \"rct\"] += next_rct\n",
    "        ss.loc[still_active, \"rct\"] -= current_rct\n",
    "\n",
    "    not_active = ss[\"X\"] < new_crit\n",
    "    ss.loc[not_active, \"rct\"] = 0\n",
    "    ss.loc[not_active, \"at\"] = 0\n",
    "    ss.loc[:, \"crit\"] = new_crit\n",
    "\n",
    "    return ss\n",
    "\n",
    "\n",
    "def unstack_ss(df):\n",
    "    df = df.drop(\"ss_id\", axis=1)\n",
    "    df = df.set_index(\"t_id\")\n",
    "    df = df.unstack()\n",
    "    return df\n",
    "\n",
    "\n",
    "def widen_ss(ss):\n",
    "    ss_core = ss[[\"ss_id\", \"t_id\", \"at\", \"rct\", \"crit\"]]\n",
    "    grouped = ss_core.groupby(\"ss_id\")\n",
    "    ss_wide = grouped.apply(unstack_ss)\n",
    "    return ss_wide\n",
    "\n",
    "\n",
    "def remove_duplicates(ss):\n",
    "    ss_join = widen_ss(ss)\n",
    "    duplicated_scope = ss_join.duplicated()\n",
    "    duplicated_ssid = ss_join.loc[duplicated_scope].index\n",
    "    return ss.loc[~ss[\"ss_id\"].isin(duplicated_ssid)]\n",
    "\n",
    "\n",
    "def get_worst_laxity(ss):\n",
    "    return (\n",
    "        ss[\"at\"]\n",
    "        - (ss[\"rct\"] + ss[1] - ss.apply(lambda row: row[1], axis=1))\n",
    "        + ss[\"D\"]\n",
    "    )\n",
    "\n",
    "\n",
    "def LWLF(ss):\n",
    "\n",
    "    ss[\"wl\"] = get_worst_laxity(ss)\n",
    "\n",
    "    active_scope = get_active_scope(ss)\n",
    "\n",
    "    sched_loc = ss.loc[active_scope].groupby(\"ss_id\")[\"wl\"].idxmin()\n",
    "    sched_ids = ss.loc[sched_loc, [\"ss_id\", \"t_id\"]].rename(\n",
    "        columns={\"t_id\": \"sched_id\"}\n",
    "    )\n",
    "    ss = ss.drop(\"sched_id\", axis=1).merge(sched_ids, on=\"ss_id\", how=\"left\")\n",
    "\n",
    "    ss[\"sched_id\"] = ss[\"sched_id\"].fillna(-1)\n",
    "\n",
    "    return ss\n",
    "\n",
    "\n",
    "def check(ss):\n",
    "    scope = ss[0] <= ss[1]\n",
    "    assert scope.all(), f\"\\n{ss.loc[~scope]}\"\n",
    "    \n",
    "    scope = ss[\"crit\"] <= 1\n",
    "    assert scope.all(), f\"\\n{ss.loc[~scope]}\"\n",
    "\n",
    "    scope = ((ss[\"X\"] < ss[\"crit\"]) & (ss[\"rct\"] == 0) & (ss[\"at\"] == 0)) | (\n",
    "        ss[\"X\"] >= ss[\"crit\"]\n",
    "    )\n",
    "    assert scope.all(), f\"\\n{ss.loc[~scope]}\"\n",
    "\n",
    "    scope = ss[\"crit\"] >= 0\n",
    "    assert scope.all(), f\"\\n{ss.loc[~scope]}\"\n",
    "\n",
    "    scope = ss[\"at\"] <= ss[\"T\"]\n",
    "    assert scope.all(), f\"\\n{ss.loc[~scope]}\"\n",
    "\n",
    "    scope = ss[\"rct\"] >= 0\n",
    "    assert scope.all(), f\"\\n{ss.loc[~scope]}\"\n",
    "\n",
    "    scope = ss[\"rct\"] <= ss[1]\n",
    "    assert scope.all(), f\"\\n{ss.loc[~scope]}\"\n",
    "\n",
    "\n",
    "def get_laxity(ss):\n",
    "    return ss[\"at\"] - ss[\"rct\"] + ss[\"D\"]\n",
    "\n",
    "\n",
    "def fail(ss):\n",
    "    ss[\"l\"] = get_laxity(ss)\n",
    "    return (ss[\"l\"] < 0).any()\n",
    "\n",
    "\n",
    "def hash_ss(df):\n",
    "    return hash(df.droplevel(0).reset_index().values.data.tobytes())\n",
    "\n",
    "\n",
    "def get_neighbours(ss):\n",
    "    ss = LWLF(ss)\n",
    "    ss = get_execution_transition(ss)\n",
    "    ss = get_termination_transitions(ss)\n",
    "    ss = get_critical_transition(ss)\n",
    "    ss = remove_duplicates(ss)\n",
    "    check(ss)\n",
    "    return ss"
   ]
  },
  {
   "cell_type": "code",
   "execution_count": 16,
   "id": "a4d38fba-bacb-438b-baf4-73eb7cecde59",
   "metadata": {},
   "outputs": [],
   "source": [
    "def bfs(ss):\n",
    "    visited = set()\n",
    "    ss_hashes = ss.set_index([\"ss_id\", \"t_id\"])[[\"at\",\"rct\",\"crit\"]].groupby(level=\"ss_id\").apply(hash_ss)\n",
    "    i = 0\n",
    "\n",
    "    while ss.shape[0] > 0:\n",
    "        visited.update(ss_hashes)\n",
    "\n",
    "        ss_old = ss.copy()\n",
    "        ss = get_neighbours(ss)\n",
    "\n",
    "        if fail(ss):\n",
    "            return False, len(visited)\n",
    "            break\n",
    "\n",
    "        ss_hashes = ss.set_index([\"ss_id\", \"t_id\"])[[\"at\",\"rct\",\"crit\"]].groupby(level=\"ss_id\").apply(hash_ss)\n",
    "\n",
    "        ss_visited = ss_hashes.isin(visited)\n",
    "        ss_visited.name = \"visited\"\n",
    "\n",
    "        ss = ss.merge(ss_visited, left_on=\"ss_id\", right_index=True)\n",
    "        ss = ss.loc[~ss[\"visited\"]]\n",
    "        ss = ss.drop(\"visited\", axis=1)\n",
    "        \n",
    "        i+= 1\n",
    "    return True, len(visited)"
   ]
  },
  {
   "cell_type": "code",
   "execution_count": 4,
   "id": "1c261210-8197-440e-805e-f3308bd40d1d",
   "metadata": {},
   "outputs": [],
   "source": [
    "def ts_to_ss(ts):\n",
    "    pg = PeriodicGraph.PeriodicGraph(ts)\n",
    "    ss = pg.getInitialVertex()\n",
    "    df = ss.ss\n",
    "    df[\"crit\"] = ss.crit\n",
    "    ss = df.join(ts.tasks)\n",
    "    ss[\"t_id\"] = ss.index\n",
    "    ss[\"ss_id\"] = 0\n",
    "    ss[\"sched_id\"]=-1\n",
    "    ss[\"wl\"] = get_worst_laxity(ss)\n",
    "    return ss"
   ]
  },
  {
   "cell_type": "code",
   "execution_count": 5,
   "id": "ff58c7e0-8496-48fd-9150-13d3dfbcbd03",
   "metadata": {},
   "outputs": [],
   "source": [
    "def bfs_ts(ts):\n",
    "    ss = ts_to_ss(ts)\n",
    "    u = ts.getAverageUtilisation()\n",
    "    res, n = bfs(ss)\n",
    "    occurence = pd.Series([u, res, n], [\"u\", \"res\", \"n\"])\n",
    "    return occurence"
   ]
  },
  {
   "cell_type": "code",
   "execution_count": 6,
   "id": "0b8c8c3d-1ce5-4c9a-a569-be46a31c1224",
   "metadata": {},
   "outputs": [],
   "source": [
    "def bfs_t(t, x, c0, c1):\n",
    "    task = Task.Task(O=0, T=t, D=t, X=x, C=(c0, c1))\n",
    "    task_set = TaskSet.TaskSet([task])\n",
    "    return bfs_ts(task_set)"
   ]
  },
  {
   "cell_type": "code",
   "execution_count": 7,
   "id": "c8709cb6-6300-4dd4-8892-80619e05792d",
   "metadata": {},
   "outputs": [],
   "source": [
    "import multiprocessing as mp                                                                                     \n",
    "mp.set_start_method(\"fork\") "
   ]
  },
  {
   "cell_type": "code",
   "execution_count": 8,
   "id": "ba079749-7e1b-495a-829e-e027fb681fd1",
   "metadata": {},
   "outputs": [],
   "source": [
    "import time\n",
    "import concurrent.futures\n",
    "from tqdm import tqdm\n",
    "import pandas as pd"
   ]
  },
  {
   "cell_type": "code",
   "execution_count": 11,
   "id": "a8eade1b-4cd3-4c7a-b98c-e6e2b4df5089",
   "metadata": {},
   "outputs": [],
   "source": [
    "def experiment(pHI, rHI, CmaxLO, Tmax, u, nbT):\n",
    "    sg = SetGenerator.SetGenerator(pHI, rHI, CmaxLO, Tmax, u, nbT)\n",
    "    ts = sg.generateSetPerformance(2)\n",
    "    s = time.time()\n",
    "    occurence = bfs_ts(ts)\n",
    "    occurence[\"time\"] = time.time()-s\n",
    "    occurence[\"nbt\"] = nbT\n",
    "    occurence[\"u\"] = u\n",
    "    return occurence"
   ]
  },
  {
   "cell_type": "code",
   "execution_count": 17,
   "id": "0a6a2e82-89ad-4739-956d-f5e097c6fd63",
   "metadata": {},
   "outputs": [
    {
     "name": "stderr",
     "output_type": "stream",
     "text": [
      "  2%|▊                                 | 234/10000 [02:39<1:35:04,  1.71it/s]/Users/simonpicard/Documents/mcae/Scheduler.py:25: RuntimeWarning: invalid value encountered in double_scalars\n",
      "  relativity = self.getUtilisation(1, 0) / (\n",
      " 25%|████████▎                        | 2500/10000 [28:48<1:09:10,  1.81it/s]/Users/simonpicard/Documents/mcae/Scheduler.py:25: RuntimeWarning: invalid value encountered in double_scalars\n",
      "  relativity = self.getUtilisation(1, 0) / (\n",
      " 39%|█████████████▌                     | 3878/10000 [44:09<51:28,  1.98it/s]/Users/simonpicard/Documents/mcae/Scheduler.py:25: RuntimeWarning: invalid value encountered in double_scalars\n",
      "  relativity = self.getUtilisation(1, 0) / (\n",
      " 41%|██████████████▎                    | 4089/10000 [46:24<48:34,  2.03it/s]/Users/simonpicard/Documents/mcae/Scheduler.py:25: RuntimeWarning: invalid value encountered in double_scalars\n",
      "  relativity = self.getUtilisation(1, 0) / (\n",
      " 44%|███████████████▌                   | 4441/10000 [50:24<49:45,  1.86it/s]/Users/simonpicard/Documents/mcae/Scheduler.py:25: RuntimeWarning: invalid value encountered in double_scalars\n",
      "  relativity = self.getUtilisation(1, 0) / (\n",
      " 64%|█████████████████████            | 6384/10000 [1:13:08<51:30,  1.17it/s]/Users/simonpicard/Documents/mcae/Scheduler.py:25: RuntimeWarning: invalid value encountered in double_scalars\n",
      "  relativity = self.getUtilisation(1, 0) / (\n",
      " 78%|█████████████████████████▊       | 7833/10000 [1:29:06<30:15,  1.19it/s]/Users/simonpicard/Documents/mcae/Scheduler.py:25: RuntimeWarning: invalid value encountered in double_scalars\n",
      "  relativity = self.getUtilisation(1, 0) / (\n",
      "100%|████████████████████████████████| 10000/10000 [2:25:56<00:00,  1.14it/s]\n"
     ]
    }
   ],
   "source": [
    "pHI = 0.5\n",
    "rHI = 2\n",
    "Tmax = 30\n",
    "CmaxLO = -1\n",
    "nbT = 2\n",
    "\n",
    "def f_unpack(arg):\n",
    "    return experiment(*arg)\n",
    "\n",
    "experiment_arg = []\n",
    "with concurrent.futures.ProcessPoolExecutor() as executor:\n",
    "    for u in range(0, 100, 1):\n",
    "        for i in range(100):\n",
    "            experiment_arg.append((pHI, rHI, CmaxLO, Tmax, u/100.0, nbT))\n",
    "    results = pd.DataFrame(tqdm(executor.map(f_unpack, experiment_arg), total=len(experiment_arg)))"
   ]
  },
  {
   "cell_type": "code",
   "execution_count": 19,
   "id": "fbc118b1-486e-4f56-8e3e-a72183a5c417",
   "metadata": {},
   "outputs": [],
   "source": [
    "results.to_csv(\"lwlf_test1.csv\")"
   ]
  },
  {
   "cell_type": "code",
   "execution_count": 27,
   "id": "e1ca26ad-ca6c-4fd9-9157-c55520d6d68c",
   "metadata": {},
   "outputs": [],
   "source": [
    "results[\"u\"] = (results[\"u\"]*100).apply(round)"
   ]
  },
  {
   "cell_type": "code",
   "execution_count": 30,
   "id": "11956c3b-6b37-4d46-bb20-603cf39c6881",
   "metadata": {},
   "outputs": [],
   "source": [
    "results[\"res\"] = results[\"res\"].apply(int)"
   ]
  },
  {
   "cell_type": "code",
   "execution_count": 32,
   "id": "9ee9cb3b-b077-4405-9dbf-3aa81b0637e0",
   "metadata": {},
   "outputs": [
    {
     "data": {
      "text/plain": [
       "<AxesSubplot:xlabel='u'>"
      ]
     },
     "execution_count": 32,
     "metadata": {},
     "output_type": "execute_result"
    },
    {
     "data": {
      "image/png": "[encoded data removed]",
      "text/plain": [
       "<Figure size 432x288 with 1 Axes>"
      ]
     },
     "metadata": {
      "needs_background": "light"
     },
     "output_type": "display_data"
    }
   ],
   "source": [
    "results.groupby(\"u\")[\"res\"].mean().plot()"
   ]
  },
  {
   "cell_type": "code",
   "execution_count": 5,
   "id": "87e7f77b-2c59-4c49-854e-ee665fd1ac57",
   "metadata": {},
   "outputs": [],
   "source": [
    "from importlib import reload"
   ]
  },
  {
   "cell_type": "code",
   "execution_count": 10,
   "id": "057cd0d8-a4a3-4ec7-b0bf-9f61bbfb48cb",
   "metadata": {},
   "outputs": [],
   "source": [
    "reload(SetGenerator)\n",
    "pHI = 0.5\n",
    "rHI = 2\n",
    "Tmax = 30\n",
    "CmaxLO = -1\n",
    "nbT = 2\n",
    "U = 0.5\n",
    "sg = SetGenerator.SetGenerator(pHI, rHI, CmaxLO, Tmax, U, nbT)"
   ]
  },
  {
   "cell_type": "code",
   "execution_count": 54,
   "id": "cc74623a-811c-4e1c-acb9-74e07fae6f74",
   "metadata": {},
   "outputs": [
    {
     "data": {
      "text/plain": [
       "     O     T     D    X     0     1        U0        U1\n",
       "0  0.0  20.0  20.0  0.0   2.0   2.0  0.100000  0.100000\n",
       "1  0.0  27.0  27.0  1.0  24.0  25.0  0.888889  0.925926"
      ]
     },
     "execution_count": 54,
     "metadata": {},
     "output_type": "execute_result"
    }
   ],
   "source": [
    "sg.generateSetPerformance(2)"
   ]
  },
  {
   "cell_type": "code",
   "execution_count": 2,
   "id": "efdc5b8f-ecf0-4d8d-962d-40eb7fd7aa46",
   "metadata": {},
   "outputs": [
    {
     "ename": "TypeError",
     "evalue": "'float' object cannot be interpreted as an integer",
     "output_type": "error",
     "traceback": [
      "\u001b[0;31m---------------------------------------------------------------------------\u001b[0m",
      "\u001b[0;31mTypeError\u001b[0m                                 Traceback (most recent call last)",
      "\u001b[0;32m/var/folders/lr/nrx49w_54md3dfrcjb0y_b580000gn/T/ipykernel_36302/3626516954.py\u001b[0m in \u001b[0;36m<module>\u001b[0;34m\u001b[0m\n\u001b[0;32m----> 1\u001b[0;31m \u001b[0mlist\u001b[0m\u001b[0;34m(\u001b[0m\u001b[0mrange\u001b[0m\u001b[0;34m(\u001b[0m\u001b[0;36m0\u001b[0m\u001b[0;34m,\u001b[0m \u001b[0;36m1\u001b[0m\u001b[0;34m,\u001b[0m \u001b[0;36m0.05\u001b[0m\u001b[0;34m)\u001b[0m\u001b[0;34m)\u001b[0m\u001b[0;34m\u001b[0m\u001b[0;34m\u001b[0m\u001b[0m\n\u001b[0m",
      "\u001b[0;31mTypeError\u001b[0m: 'float' object cannot be interpreted as an integer"
     ]
    }
   ],
   "source": [
    "list(range(0, 1, 0.05))"
   ]
  },
  {
   "cell_type": "code",
   "execution_count": null,
   "id": "9e3bfe3c-7b12-4d19-b4ea-01767938022e",
   "metadata": {
    "tags": []
   },
   "outputs": [
    {
     "name": "stderr",
     "output_type": "stream",
     "text": [
      " 26%|█████████▏                          | 1269/4960 [01:32<06:11,  9.94it/s]"
     ]
    }
   ],
   "source": [
    "import asyncio\n",
    "import concurrent.futures\n",
    "from tqdm import tqdm\n",
    "\n",
    "def f_unpack(arg):\n",
    "    return bfs_t(*arg)\n",
    "\n",
    "futures = []\n",
    "\n",
    "test_iter = []\n",
    "s = 1\n",
    "with concurrent.futures.ProcessPoolExecutor() as executor:\n",
    "    loop = asyncio.get_event_loop()\n",
    "    for t in range(1, 31, s):\n",
    "        for c1 in range(1, t+1, s):\n",
    "            for x in range(2):\n",
    "                for c0 in [c1] if x==0 else range(1, c1):\n",
    "                    # print(t, x, c0, c1)\n",
    "                    test_iter.append([t, x, c0, c1])\n",
    "                    #futures.append(\n",
    "                    #    loop.run_in_executor(\n",
    "                    #        executor,\n",
    "                    #        bfs_t,\n",
    "                    #        t, x, c0, c1,\n",
    "                    #    ))\n",
    "    #full_list_of_results = []\n",
    "    #for r in tqdm(await asyncio.gather(*futures)):\n",
    "    #    full_list_of_results.extend(r)\n",
    "        \n",
    "    results = pd.DataFrame(tqdm(executor.map(f_unpack, test_iter), total=len(test_iter)))"
   ]
  },
  {
   "cell_type": "code",
   "execution_count": 1075,
   "id": "e3ea531e-82b5-4a52-8f62-b560d61e7be8",
   "metadata": {},
   "outputs": [
    {
     "data": {
      "text/plain": [
       "<AxesSubplot:xlabel='T', ylabel='n'>"
      ]
     },
     "execution_count": 1079,
     "metadata": {},
     "output_type": "execute_result"
    },
    {
     "data": {
      "image/png": "[encoded data removed]",
      "text/plain": [
       "<Figure size 432x288 with 1 Axes>"
      ]
     },
     "metadata": {
      "needs_background": "light"
     },
     "output_type": "display_data"
    }
   ],
   "source": [
    "space.plot(\"T\", \"n\", kind=\"scatter\")"
   ]
  },
  {
   "cell_type": "code",
   "execution_count": 1080,
   "id": "606eac1c-ac43-486b-861e-e788d25db45a",
   "metadata": {},
   "outputs": [
    {
     "data": {
      "text/plain": [
       "<AxesSubplot:xlabel='1', ylabel='n'>"
      ]
     },
     "execution_count": 1080,
     "metadata": {},
     "output_type": "execute_result"
    },
    {
     "data": {
      "image/png": "[encoded data removed]",
      "text/plain": [
       "<Figure size 432x288 with 1 Axes>"
      ]
     },
     "metadata": {
      "needs_background": "light"
     },
     "output_type": "display_data"
    }
   ],
   "source": [
    "space.plot(1, \"n\", kind=\"scatter\")"
   ]
  },
  {
   "cell_type": "code",
   "execution_count": 1081,
   "id": "31cbe825-dd1c-46d4-bf85-a1d52c41abed",
   "metadata": {},
   "outputs": [
    {
     "data": {
      "text/plain": [
       "<AxesSubplot:xlabel='0', ylabel='n'>"
      ]
     },
     "execution_count": 1081,
     "metadata": {},
     "output_type": "execute_result"
    },
    {
     "data": {
      "image/png": "[encoded data removed]",
      "text/plain": [
       "<Figure size 432x288 with 1 Axes>"
      ]
     },
     "metadata": {
      "needs_background": "light"
     },
     "output_type": "display_data"
    }
   ],
   "source": [
    "space.plot(0, \"n\", kind=\"scatter\")"
   ]
  },
  {
   "cell_type": "code",
   "execution_count": 39,
   "id": "a327efa4-b903-4150-959f-5c92da8ca55b",
   "metadata": {},
   "outputs": [
    {
     "data": {
      "text/plain": [
       "<module 'TaskSet' from '/Users/simonpicard/Documents/mcae/TaskSet.py'>"
      ]
     },
     "execution_count": 39,
     "metadata": {},
     "output_type": "execute_result"
    }
   ],
   "source": [
    "from importlib import reload\n",
    "reload(TaskSet)"
   ]
  },
  {
   "cell_type": "code",
   "execution_count": 46,
   "id": "e43a0c9e-ff86-4071-ab84-a374d9f87ef9",
   "metadata": {},
   "outputs": [],
   "source": [
    "def get_initial_state(tasks):\n",
    "    ss = tasks[[\"O\", 0]].rename(columns={0: \"rct\", \"O\": \"at\"})\n",
    "    ss[\"crit\"] = 0\n",
    "    ss = ss.join(tasks)\n",
    "    ss[\"t_id\"] = ss.index\n",
    "    ss[\"ss_id\"] = 0\n",
    "    ss[\"sched_id\"] = -1\n",
    "    ss[\"wl\"] = get_worst_laxity(ss)\n",
    "    return ss"
   ]
  },
  {
   "cell_type": "code",
   "execution_count": 47,
   "id": "6b94e60b-553a-4074-b7a1-f4bdd22db03e",
   "metadata": {},
   "outputs": [],
   "source": [
    "task = Task.Task(O=0, T=10, D=10, X=0, C=(3, 3))\n",
    "task_set = TaskSet.TaskSet([task])\n",
    "\n",
    "tasks = task_set.get_df()"
   ]
  },
  {
   "cell_type": "code",
   "execution_count": 48,
   "id": "c2a878d8-e020-4315-9f1f-05270bb78c04",
   "metadata": {},
   "outputs": [
    {
     "data": {
      "text/html": [
       "<div>\n",
       "<style scoped>\n",
       "    .dataframe tbody tr th:only-of-type {\n",
       "        vertical-align: middle;\n",
       "    }\n",
       "\n",
       "    .dataframe tbody tr th {\n",
       "        vertical-align: top;\n",
       "    }\n",
       "\n",
       "    .dataframe thead th {\n",
       "        text-align: right;\n",
       "    }\n",
       "</style>\n",
       "<table border=\"1\" class=\"dataframe\">\n",
       "  <thead>\n",
       "    <tr style=\"text-align: right;\">\n",
       "      <th></th>\n",
       "      <th>at</th>\n",
       "      <th>rct</th>\n",
       "      <th>crit</th>\n",
       "      <th>O</th>\n",
       "      <th>T</th>\n",
       "      <th>D</th>\n",
       "      <th>X</th>\n",
       "      <th>0</th>\n",
       "      <th>1</th>\n",
       "      <th>U0</th>\n",
       "      <th>U1</th>\n",
       "      <th>t_id</th>\n",
       "      <th>ss_id</th>\n",
       "      <th>sched_id</th>\n",
       "      <th>wl</th>\n",
       "    </tr>\n",
       "  </thead>\n",
       "  <tbody>\n",
       "    <tr>\n",
       "      <th>0</th>\n",
       "      <td>0.0</td>\n",
       "      <td>3.0</td>\n",
       "      <td>0</td>\n",
       "      <td>0.0</td>\n",
       "      <td>10.0</td>\n",
       "      <td>10.0</td>\n",
       "      <td>0.0</td>\n",
       "      <td>3.0</td>\n",
       "      <td>3.0</td>\n",
       "      <td>0.3</td>\n",
       "      <td>0.3</td>\n",
       "      <td>0</td>\n",
       "      <td>0</td>\n",
       "      <td>-1</td>\n",
       "      <td>7.0</td>\n",
       "    </tr>\n",
       "  </tbody>\n",
       "</table>\n",
       "</div>"
      ],
      "text/plain": [
       "    at  rct  crit    O     T     D    X    0    1   U0   U1  t_id  ss_id  \\\n",
       "0  0.0  3.0     0  0.0  10.0  10.0  0.0  3.0  3.0  0.3  0.3     0      0   \n",
       "\n",
       "   sched_id   wl  \n",
       "0        -1  7.0  "
      ]
     },
     "execution_count": 48,
     "metadata": {},
     "output_type": "execute_result"
    }
   ],
   "source": [
    "get_initial_state(tasks)"
   ]
  }
 ],
 "metadata": {
  "kernelspec": {
   "display_name": "Python 3 (ipykernel)",
   "language": "python",
   "name": "python3"
  },
  "language_info": {
   "codemirror_mode": {
    "name": "ipython",
    "version": 3
   },
   "file_extension": ".py",
   "mimetype": "text/x-python",
   "name": "python",
   "nbconvert_exporter": "python",
   "pygments_lexer": "ipython3",
   "version": "3.10.0"
  }
 },
 "nbformat": 4,
 "nbformat_minor": 5
}
