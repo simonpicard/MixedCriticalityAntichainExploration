{
 "cells": [
  {
   "cell_type": "code",
   "execution_count": 9,
   "id": "857f047d-9b9d-436e-8e4a-8cbf35cb65fc",
   "metadata": {},
   "outputs": [
    {
     "name": "stdout",
     "output_type": "stream",
     "text": [
      "Mon Nov  8 21:36:06 2021    sporadic.profile\n",
      "\n",
      "         31880246 function calls (31618911 primitive calls) in 13.099 seconds\n",
      "\n",
      "   Ordered by: cumulative time\n",
      "   List reduced from 3450 to 50 due to restriction <50>\n",
      "\n",
      "   ncalls  tottime  percall  cumtime  percall filename:lineno(function)\n",
      "    703/1    0.001    0.000   13.099   13.099 {built-in method builtins.exec}\n",
      "        1    0.000    0.000   13.099   13.099 sporadic.py:1(<module>)\n",
      "        1    0.002    0.002   12.825   12.825 sporadic.py:665(bfs_simulation)\n",
      "       34    0.003    0.000    9.546    0.281 sporadic.py:487(get_neighbours)\n",
      "       34    0.005    0.000    6.228    0.183 sporadic.py:272(get_request_transitions)\n",
      "      265    0.000    0.000    5.595    0.021 /Users/simonpicard/opt/anaconda3/envs/mcae/lib/python3.10/site-packages/pandas/core/series.py:4247(apply)\n",
      "      265    0.025    0.000    5.594    0.021 /Users/simonpicard/opt/anaconda3/envs/mcae/lib/python3.10/site-packages/pandas/core/apply.py:1029(apply)\n",
      "      265    0.003    0.000    5.567    0.021 /Users/simonpicard/opt/anaconda3/envs/mcae/lib/python3.10/site-packages/pandas/core/apply.py:1079(apply_standard)\n",
      "      103    0.001    0.000    4.569    0.044 /Users/simonpicard/opt/anaconda3/envs/mcae/lib/python3.10/site-packages/pandas/core/groupby/groupby.py:1290(_python_apply_general)\n",
      "      103    0.043    0.000    4.555    0.044 /Users/simonpicard/opt/anaconda3/envs/mcae/lib/python3.10/site-packages/pandas/core/groupby/ops.py:776(apply)\n",
      "       69    0.000    0.000    4.456    0.065 /Users/simonpicard/opt/anaconda3/envs/mcae/lib/python3.10/site-packages/pandas/core/groupby/groupby.py:1241(apply)\n",
      "88486/88452    0.270    0.000    4.014    0.000 /Users/simonpicard/opt/anaconda3/envs/mcae/lib/python3.10/site-packages/pandas/core/series.py:315(__init__)\n",
      "      265    0.015    0.000    3.083    0.012 {pandas._libs.lib.map_infer}\n",
      "     5825    0.010    0.000    2.497    0.000 /Users/simonpicard/opt/anaconda3/envs/mcae/lib/python3.10/site-packages/pandas/core/frame.py:573(__init__)\n",
      "       35    0.000    0.000    2.454    0.070 sporadic.py:572(set_hashes_idle)\n",
      "      232    0.000    0.000    2.411    0.010 /Users/simonpicard/opt/anaconda3/envs/mcae/lib/python3.10/site-packages/pandas/core/internals/construction.py:469(nested_data_to_arrays)\n",
      "      232    0.017    0.000    2.410    0.010 /Users/simonpicard/opt/anaconda3/envs/mcae/lib/python3.10/site-packages/pandas/core/internals/construction.py:738(to_arrays)\n",
      "       35    0.001    0.000    2.386    0.068 sporadic.py:559(get_hashes_idle)\n",
      "      232    0.053    0.000    2.379    0.010 /Users/simonpicard/opt/anaconda3/envs/mcae/lib/python3.10/site-packages/pandas/core/internals/construction.py:822(_list_of_series_to_arrays)\n",
      "       34    0.000    0.000    2.377    0.070 sporadic.py:420(set_hashes)\n",
      "       34    0.001    0.000    2.309    0.068 sporadic.py:452(get_hashes)\n",
      "       34    0.004    0.000    2.185    0.064 sporadic.py:178(get_request_transition)\n",
      "     3111    0.025    0.000    2.121    0.001 sporadic.py:545(combine_task_hashes_idle)\n",
      "     4571    0.020    0.000    1.988    0.000 sporadic.py:446(combine_task_hashes)\n",
      "    14778    0.010    0.000    1.633    0.000 sporadic.py:316(<lambda>)\n",
      "11880/11812    0.012    0.000    1.562    0.000 /Users/simonpicard/opt/anaconda3/envs/mcae/lib/python3.10/site-packages/pandas/util/_decorators.py:302(wrapper)\n",
      "  6227818    0.864    0.000    1.406    0.000 {built-in method builtins.isinstance}\n",
      "    92850    0.058    0.000    1.393    0.000 /Users/simonpicard/opt/anaconda3/envs/mcae/lib/python3.10/site-packages/pandas/core/indexes/base.py:6279(ensure_index)\n",
      "58620/30410    0.272    0.000    1.371    0.000 /Users/simonpicard/opt/anaconda3/envs/mcae/lib/python3.10/site-packages/pandas/core/indexes/base.py:375(__new__)\n",
      "29000/28924    0.071    0.000    1.111    0.000 /Users/simonpicard/opt/anaconda3/envs/mcae/lib/python3.10/site-packages/pandas/core/indexes/base.py:3426(get_indexer)\n",
      "    27730    0.064    0.000    1.095    0.000 /Users/simonpicard/opt/anaconda3/envs/mcae/lib/python3.10/site-packages/pandas/core/frame.py:3418(__getitem__)\n",
      "    25424    0.060    0.000    1.055    0.000 /Users/simonpicard/opt/anaconda3/envs/mcae/lib/python3.10/site-packages/pandas/core/internals/managers.py:276(apply)\n",
      "    10990    0.015    0.000    1.028    0.000 /Users/simonpicard/opt/anaconda3/envs/mcae/lib/python3.10/site-packages/pandas/core/ops/common.py:54(new_method)\n",
      "    57050    0.071    0.000    0.927    0.000 /Users/simonpicard/opt/anaconda3/envs/mcae/lib/python3.10/site-packages/pandas/core/frame.py:3876(_get_item_cache)\n",
      "     9256    0.039    0.000    0.829    0.000 /Users/simonpicard/opt/anaconda3/envs/mcae/lib/python3.10/site-packages/pandas/core/series.py:5516(_arith_method)\n",
      "210073/207406    0.073    0.000    0.824    0.000 {built-in method builtins.all}\n",
      "    40870    0.134    0.000    0.746    0.000 /Users/simonpicard/opt/anaconda3/envs/mcae/lib/python3.10/site-packages/pandas/core/construction.py:463(sanitize_array)\n",
      "     8131    0.005    0.000    0.738    0.000 /Users/simonpicard/opt/anaconda3/envs/mcae/lib/python3.10/site-packages/pandas/core/arraylike.py:106(__mul__)\n",
      "    61965    0.104    0.000    0.723    0.000 /Users/simonpicard/opt/anaconda3/envs/mcae/lib/python3.10/site-packages/pandas/core/internals/blocks.py:1931(new_block)\n",
      "      423    0.001    0.000    0.619    0.001 /Users/simonpicard/opt/anaconda3/envs/mcae/lib/python3.10/site-packages/pandas/core/indexes/api.py:69(get_objs_combined_axis)\n",
      "    10990    0.020    0.000    0.615    0.000 /Users/simonpicard/opt/anaconda3/envs/mcae/lib/python3.10/site-packages/pandas/core/series.py:2916(_construct_result)\n",
      "    57642    0.424    0.000    0.611    0.000 {pandas._libs.lib.maybe_convert_objects}\n",
      "      423    0.001    0.000    0.600    0.001 /Users/simonpicard/opt/anaconda3/envs/mcae/lib/python3.10/site-packages/pandas/core/indexes/api.py:113(_get_combined_index)\n",
      "     3179    0.019    0.000    0.591    0.000 /Users/simonpicard/opt/anaconda3/envs/mcae/lib/python3.10/site-packages/pandas/core/frame.py:6216(sort_values)\n",
      "34155/34152    0.066    0.000    0.584    0.000 /Users/simonpicard/opt/anaconda3/envs/mcae/lib/python3.10/site-packages/pandas/core/indexes/base.py:4728(equals)\n",
      "   200646    0.100    0.000    0.577    0.000 /Users/simonpicard/opt/anaconda3/envs/mcae/lib/python3.10/site-packages/pandas/core/construction.py:369(extract_array)\n",
      "      566    0.002    0.000    0.576    0.001 /Users/simonpicard/opt/anaconda3/envs/mcae/lib/python3.10/site-packages/pandas/core/indexes/api.py:165(union_indexes)\n",
      "    44536    0.043    0.000    0.576    0.000 /Users/simonpicard/opt/anaconda3/envs/mcae/lib/python3.10/site-packages/pandas/core/array_algos/take.py:54(take_nd)\n",
      "    39830    0.036    0.000    0.552    0.000 /Users/simonpicard/opt/anaconda3/envs/mcae/lib/python3.10/site-packages/pandas/core/internals/managers.py:1569(from_array)\n",
      "    27905    0.008    0.000    0.550    0.000 /Users/simonpicard/opt/anaconda3/envs/mcae/lib/python3.10/site-packages/pandas/core/indexes/api.py:225(<genexpr>)\n",
      "\n",
      "\n"
     ]
    },
    {
     "data": {
      "text/plain": [
       "<pstats.Stats at 0x7fd888d3f070>"
      ]
     },
     "execution_count": 9,
     "metadata": {},
     "output_type": "execute_result"
    }
   ],
   "source": [
    "import pstats\n",
    "p = pstats.Stats('sporadic.profile')\n",
    "p.sort_stats('cumulative').print_stats(50)"
   ]
  },
  {
   "cell_type": "code",
   "execution_count": 10,
   "id": "ab90d8bf-f9fa-4ea1-8f32-481d6d42eeb1",
   "metadata": {},
   "outputs": [
    {
     "name": "stdout",
     "output_type": "stream",
     "text": [
      "Mon Nov  8 20:56:31 2021    sporadic2.profile\n",
      "\n",
      "         31861994 function calls (31600961 primitive calls) in 12.981 seconds\n",
      "\n",
      "   Ordered by: cumulative time\n",
      "   List reduced from 3448 to 50 due to restriction <50>\n",
      "\n",
      "   ncalls  tottime  percall  cumtime  percall filename:lineno(function)\n",
      "    703/1    0.001    0.000   12.981   12.981 {built-in method builtins.exec}\n",
      "        1    0.000    0.000   12.981   12.981 sporadic.py:1(<module>)\n",
      "        1    0.002    0.002   12.714   12.714 sporadic.py:642(bfs_simulation)\n",
      "       34    0.002    0.000    9.447    0.278 sporadic.py:464(get_neighbours)\n",
      "       34    0.005    0.000    6.155    0.181 sporadic.py:262(get_request_transitions)\n",
      "      265    0.000    0.000    5.532    0.021 /Users/simonpicard/opt/anaconda3/envs/mcae/lib/python3.10/site-packages/pandas/core/series.py:4247(apply)\n",
      "      265    0.025    0.000    5.531    0.021 /Users/simonpicard/opt/anaconda3/envs/mcae/lib/python3.10/site-packages/pandas/core/apply.py:1029(apply)\n",
      "      265    0.003    0.000    5.505    0.021 /Users/simonpicard/opt/anaconda3/envs/mcae/lib/python3.10/site-packages/pandas/core/apply.py:1079(apply_standard)\n",
      "      103    0.001    0.000    4.545    0.044 /Users/simonpicard/opt/anaconda3/envs/mcae/lib/python3.10/site-packages/pandas/core/groupby/groupby.py:1290(_python_apply_general)\n",
      "      103    0.042    0.000    4.531    0.044 /Users/simonpicard/opt/anaconda3/envs/mcae/lib/python3.10/site-packages/pandas/core/groupby/ops.py:776(apply)\n",
      "       69    0.000    0.000    4.436    0.064 /Users/simonpicard/opt/anaconda3/envs/mcae/lib/python3.10/site-packages/pandas/core/groupby/groupby.py:1241(apply)\n",
      "88413/88379    0.268    0.000    3.987    0.000 /Users/simonpicard/opt/anaconda3/envs/mcae/lib/python3.10/site-packages/pandas/core/series.py:315(__init__)\n",
      "      265    0.015    0.000    3.051    0.012 {pandas._libs.lib.map_infer}\n",
      "     5825    0.010    0.000    2.467    0.000 /Users/simonpicard/opt/anaconda3/envs/mcae/lib/python3.10/site-packages/pandas/core/frame.py:573(__init__)\n",
      "       35    0.000    0.000    2.450    0.070 sporadic.py:549(set_hashes_idle)\n",
      "       35    0.001    0.000    2.382    0.068 sporadic.py:536(get_hashes_idle)\n",
      "      232    0.000    0.000    2.381    0.010 /Users/simonpicard/opt/anaconda3/envs/mcae/lib/python3.10/site-packages/pandas/core/internals/construction.py:469(nested_data_to_arrays)\n",
      "      232    0.017    0.000    2.380    0.010 /Users/simonpicard/opt/anaconda3/envs/mcae/lib/python3.10/site-packages/pandas/core/internals/construction.py:738(to_arrays)\n",
      "       34    0.000    0.000    2.357    0.069 sporadic.py:397(set_hashes)\n",
      "      232    0.053    0.000    2.350    0.010 /Users/simonpicard/opt/anaconda3/envs/mcae/lib/python3.10/site-packages/pandas/core/internals/construction.py:822(_list_of_series_to_arrays)\n",
      "       34    0.001    0.000    2.292    0.067 sporadic.py:429(get_hashes)\n",
      "       34    0.004    0.000    2.164    0.064 sporadic.py:178(get_request_transition)\n",
      "     3111    0.025    0.000    2.118    0.001 sporadic.py:522(combine_task_hashes_idle)\n",
      "     4571    0.020    0.000    1.973    0.000 sporadic.py:423(combine_task_hashes)\n",
      "    14778    0.011    0.000    1.621    0.000 sporadic.py:295(<lambda>)\n",
      "11880/11812    0.012    0.000    1.553    0.000 /Users/simonpicard/opt/anaconda3/envs/mcae/lib/python3.10/site-packages/pandas/util/_decorators.py:302(wrapper)\n",
      "  6223123    0.869    0.000    1.410    0.000 {built-in method builtins.isinstance}\n",
      "    92850    0.058    0.000    1.373    0.000 /Users/simonpicard/opt/anaconda3/envs/mcae/lib/python3.10/site-packages/pandas/core/indexes/base.py:6279(ensure_index)\n",
      "58620/30410    0.268    0.000    1.352    0.000 /Users/simonpicard/opt/anaconda3/envs/mcae/lib/python3.10/site-packages/pandas/core/indexes/base.py:375(__new__)\n",
      "29000/28924    0.070    0.000    1.095    0.000 /Users/simonpicard/opt/anaconda3/envs/mcae/lib/python3.10/site-packages/pandas/core/indexes/base.py:3426(get_indexer)\n",
      "    27696    0.064    0.000    1.085    0.000 /Users/simonpicard/opt/anaconda3/envs/mcae/lib/python3.10/site-packages/pandas/core/frame.py:3418(__getitem__)\n",
      "    25390    0.060    0.000    1.046    0.000 /Users/simonpicard/opt/anaconda3/envs/mcae/lib/python3.10/site-packages/pandas/core/internals/managers.py:276(apply)\n",
      "    10990    0.015    0.000    1.029    0.000 /Users/simonpicard/opt/anaconda3/envs/mcae/lib/python3.10/site-packages/pandas/core/ops/common.py:54(new_method)\n",
      "    57016    0.071    0.000    0.917    0.000 /Users/simonpicard/opt/anaconda3/envs/mcae/lib/python3.10/site-packages/pandas/core/frame.py:3876(_get_item_cache)\n",
      "     9256    0.038    0.000    0.830    0.000 /Users/simonpicard/opt/anaconda3/envs/mcae/lib/python3.10/site-packages/pandas/core/series.py:5516(_arith_method)\n",
      "209932/207265    0.073    0.000    0.816    0.000 {built-in method builtins.all}\n",
      "     8131    0.005    0.000    0.740    0.000 /Users/simonpicard/opt/anaconda3/envs/mcae/lib/python3.10/site-packages/pandas/core/arraylike.py:106(__mul__)\n",
      "    40870    0.133    0.000    0.737    0.000 /Users/simonpicard/opt/anaconda3/envs/mcae/lib/python3.10/site-packages/pandas/core/construction.py:463(sanitize_array)\n",
      "    61931    0.101    0.000    0.718    0.000 /Users/simonpicard/opt/anaconda3/envs/mcae/lib/python3.10/site-packages/pandas/core/internals/blocks.py:1931(new_block)\n",
      "    10990    0.019    0.000    0.617    0.000 /Users/simonpicard/opt/anaconda3/envs/mcae/lib/python3.10/site-packages/pandas/core/series.py:2916(_construct_result)\n",
      "      423    0.001    0.000    0.610    0.001 /Users/simonpicard/opt/anaconda3/envs/mcae/lib/python3.10/site-packages/pandas/core/indexes/api.py:69(get_objs_combined_axis)\n",
      "    57642    0.416    0.000    0.599    0.000 {pandas._libs.lib.maybe_convert_objects}\n",
      "      423    0.001    0.000    0.591    0.001 /Users/simonpicard/opt/anaconda3/envs/mcae/lib/python3.10/site-packages/pandas/core/indexes/api.py:113(_get_combined_index)\n",
      "     3179    0.019    0.000    0.591    0.000 /Users/simonpicard/opt/anaconda3/envs/mcae/lib/python3.10/site-packages/pandas/core/frame.py:6216(sort_values)\n",
      "34150/34147    0.065    0.000    0.575    0.000 /Users/simonpicard/opt/anaconda3/envs/mcae/lib/python3.10/site-packages/pandas/core/indexes/base.py:4728(equals)\n",
      "    44470    0.045    0.000    0.572    0.000 /Users/simonpicard/opt/anaconda3/envs/mcae/lib/python3.10/site-packages/pandas/core/array_algos/take.py:54(take_nd)\n",
      "   200505    0.098    0.000    0.570    0.000 /Users/simonpicard/opt/anaconda3/envs/mcae/lib/python3.10/site-packages/pandas/core/construction.py:369(extract_array)\n",
      "      566    0.002    0.000    0.568    0.001 /Users/simonpicard/opt/anaconda3/envs/mcae/lib/python3.10/site-packages/pandas/core/indexes/api.py:165(union_indexes)\n",
      "    39830    0.036    0.000    0.549    0.000 /Users/simonpicard/opt/anaconda3/envs/mcae/lib/python3.10/site-packages/pandas/core/internals/managers.py:1569(from_array)\n",
      "    27905    0.008    0.000    0.541    0.000 /Users/simonpicard/opt/anaconda3/envs/mcae/lib/python3.10/site-packages/pandas/core/indexes/api.py:225(<genexpr>)\n",
      "\n",
      "\n"
     ]
    },
    {
     "data": {
      "text/plain": [
       "<pstats.Stats at 0x7fd888d3f910>"
      ]
     },
     "execution_count": 10,
     "metadata": {},
     "output_type": "execute_result"
    }
   ],
   "source": [
    "import pstats\n",
    "p = pstats.Stats('sporadic2.profile')\n",
    "p.sort_stats('cumulative').print_stats(50)"
   ]
  },
  {
   "cell_type": "code",
   "execution_count": 11,
   "id": "05cc5bca-30f9-4a59-962c-b57256fac93b",
   "metadata": {},
   "outputs": [
    {
     "ename": "ValueError",
     "evalue": "bad marshal data (unknown type code)",
     "output_type": "error",
     "traceback": [
      "\u001b[0;31m---------------------------------------------------------------------------\u001b[0m",
      "\u001b[0;31mValueError\u001b[0m                                Traceback (most recent call last)",
      "\u001b[0;32m/var/folders/lr/nrx49w_54md3dfrcjb0y_b580000gn/T/ipykernel_2534/200650672.py\u001b[0m in \u001b[0;36m<module>\u001b[0;34m\u001b[0m\n\u001b[1;32m      1\u001b[0m \u001b[0;32mimport\u001b[0m \u001b[0mpstats\u001b[0m\u001b[0;34m\u001b[0m\u001b[0;34m\u001b[0m\u001b[0m\n\u001b[0;32m----> 2\u001b[0;31m \u001b[0mp\u001b[0m \u001b[0;34m=\u001b[0m \u001b[0mpstats\u001b[0m\u001b[0;34m.\u001b[0m\u001b[0mStats\u001b[0m\u001b[0;34m(\u001b[0m\u001b[0;34m'sporadic.py.lprof'\u001b[0m\u001b[0;34m)\u001b[0m\u001b[0;34m\u001b[0m\u001b[0;34m\u001b[0m\u001b[0m\n\u001b[0m\u001b[1;32m      3\u001b[0m \u001b[0mp\u001b[0m\u001b[0;34m.\u001b[0m\u001b[0msort_stats\u001b[0m\u001b[0;34m(\u001b[0m\u001b[0;34m'cumulative'\u001b[0m\u001b[0;34m)\u001b[0m\u001b[0;34m.\u001b[0m\u001b[0mprint_stats\u001b[0m\u001b[0;34m(\u001b[0m\u001b[0;36m50\u001b[0m\u001b[0;34m)\u001b[0m\u001b[0;34m\u001b[0m\u001b[0;34m\u001b[0m\u001b[0m\n",
      "\u001b[0;32m~/opt/anaconda3/envs/mcae/lib/python3.10/pstats.py\u001b[0m in \u001b[0;36m__init__\u001b[0;34m(self, stream, *args)\u001b[0m\n\u001b[1;32m    112\u001b[0m             \u001b[0marg\u001b[0m \u001b[0;34m=\u001b[0m \u001b[0margs\u001b[0m\u001b[0;34m[\u001b[0m\u001b[0;36m0\u001b[0m\u001b[0;34m]\u001b[0m\u001b[0;34m\u001b[0m\u001b[0;34m\u001b[0m\u001b[0m\n\u001b[1;32m    113\u001b[0m             \u001b[0margs\u001b[0m \u001b[0;34m=\u001b[0m \u001b[0margs\u001b[0m\u001b[0;34m[\u001b[0m\u001b[0;36m1\u001b[0m\u001b[0;34m:\u001b[0m\u001b[0;34m]\u001b[0m\u001b[0;34m\u001b[0m\u001b[0;34m\u001b[0m\u001b[0m\n\u001b[0;32m--> 114\u001b[0;31m         \u001b[0mself\u001b[0m\u001b[0;34m.\u001b[0m\u001b[0minit\u001b[0m\u001b[0;34m(\u001b[0m\u001b[0marg\u001b[0m\u001b[0;34m)\u001b[0m\u001b[0;34m\u001b[0m\u001b[0;34m\u001b[0m\u001b[0m\n\u001b[0m\u001b[1;32m    115\u001b[0m         \u001b[0mself\u001b[0m\u001b[0;34m.\u001b[0m\u001b[0madd\u001b[0m\u001b[0;34m(\u001b[0m\u001b[0;34m*\u001b[0m\u001b[0margs\u001b[0m\u001b[0;34m)\u001b[0m\u001b[0;34m\u001b[0m\u001b[0;34m\u001b[0m\u001b[0m\n\u001b[1;32m    116\u001b[0m \u001b[0;34m\u001b[0m\u001b[0m\n",
      "\u001b[0;32m~/opt/anaconda3/envs/mcae/lib/python3.10/pstats.py\u001b[0m in \u001b[0;36minit\u001b[0;34m(self, arg)\u001b[0m\n\u001b[1;32m    126\u001b[0m         \u001b[0mself\u001b[0m\u001b[0;34m.\u001b[0m\u001b[0mstats\u001b[0m \u001b[0;34m=\u001b[0m \u001b[0;34m{\u001b[0m\u001b[0;34m}\u001b[0m\u001b[0;34m\u001b[0m\u001b[0;34m\u001b[0m\u001b[0m\n\u001b[1;32m    127\u001b[0m         \u001b[0mself\u001b[0m\u001b[0;34m.\u001b[0m\u001b[0msort_arg_dict\u001b[0m \u001b[0;34m=\u001b[0m \u001b[0;34m{\u001b[0m\u001b[0;34m}\u001b[0m\u001b[0;34m\u001b[0m\u001b[0;34m\u001b[0m\u001b[0m\n\u001b[0;32m--> 128\u001b[0;31m         \u001b[0mself\u001b[0m\u001b[0;34m.\u001b[0m\u001b[0mload_stats\u001b[0m\u001b[0;34m(\u001b[0m\u001b[0marg\u001b[0m\u001b[0;34m)\u001b[0m\u001b[0;34m\u001b[0m\u001b[0;34m\u001b[0m\u001b[0m\n\u001b[0m\u001b[1;32m    129\u001b[0m         \u001b[0;32mtry\u001b[0m\u001b[0;34m:\u001b[0m\u001b[0;34m\u001b[0m\u001b[0;34m\u001b[0m\u001b[0m\n\u001b[1;32m    130\u001b[0m             \u001b[0mself\u001b[0m\u001b[0;34m.\u001b[0m\u001b[0mget_top_level_stats\u001b[0m\u001b[0;34m(\u001b[0m\u001b[0;34m)\u001b[0m\u001b[0;34m\u001b[0m\u001b[0;34m\u001b[0m\u001b[0m\n",
      "\u001b[0;32m~/opt/anaconda3/envs/mcae/lib/python3.10/pstats.py\u001b[0m in \u001b[0;36mload_stats\u001b[0;34m(self, arg)\u001b[0m\n\u001b[1;32m    140\u001b[0m         \u001b[0;32melif\u001b[0m \u001b[0misinstance\u001b[0m\u001b[0;34m(\u001b[0m\u001b[0marg\u001b[0m\u001b[0;34m,\u001b[0m \u001b[0mstr\u001b[0m\u001b[0;34m)\u001b[0m\u001b[0;34m:\u001b[0m\u001b[0;34m\u001b[0m\u001b[0;34m\u001b[0m\u001b[0m\n\u001b[1;32m    141\u001b[0m             \u001b[0;32mwith\u001b[0m \u001b[0mopen\u001b[0m\u001b[0;34m(\u001b[0m\u001b[0marg\u001b[0m\u001b[0;34m,\u001b[0m \u001b[0;34m'rb'\u001b[0m\u001b[0;34m)\u001b[0m \u001b[0;32mas\u001b[0m \u001b[0mf\u001b[0m\u001b[0;34m:\u001b[0m\u001b[0;34m\u001b[0m\u001b[0;34m\u001b[0m\u001b[0m\n\u001b[0;32m--> 142\u001b[0;31m                 \u001b[0mself\u001b[0m\u001b[0;34m.\u001b[0m\u001b[0mstats\u001b[0m \u001b[0;34m=\u001b[0m \u001b[0mmarshal\u001b[0m\u001b[0;34m.\u001b[0m\u001b[0mload\u001b[0m\u001b[0;34m(\u001b[0m\u001b[0mf\u001b[0m\u001b[0;34m)\u001b[0m\u001b[0;34m\u001b[0m\u001b[0;34m\u001b[0m\u001b[0m\n\u001b[0m\u001b[1;32m    143\u001b[0m             \u001b[0;32mtry\u001b[0m\u001b[0;34m:\u001b[0m\u001b[0;34m\u001b[0m\u001b[0;34m\u001b[0m\u001b[0m\n\u001b[1;32m    144\u001b[0m                 \u001b[0mfile_stats\u001b[0m \u001b[0;34m=\u001b[0m \u001b[0mos\u001b[0m\u001b[0;34m.\u001b[0m\u001b[0mstat\u001b[0m\u001b[0;34m(\u001b[0m\u001b[0marg\u001b[0m\u001b[0;34m)\u001b[0m\u001b[0;34m\u001b[0m\u001b[0;34m\u001b[0m\u001b[0m\n",
      "\u001b[0;31mValueError\u001b[0m: bad marshal data (unknown type code)"
     ]
    }
   ],
   "source": [
    "import pstats\n",
    "p = pstats.Stats('sporadic.py.lprof')\n",
    "p.sort_stats('cumulative').print_stats(50)"
   ]
  },
  {
   "cell_type": "code",
   "execution_count": 33,
   "id": "06280a0c-7030-4ba0-b42b-e6d5d7ec37ad",
   "metadata": {},
   "outputs": [
    {
     "name": "stdout",
     "output_type": "stream",
     "text": [
      "Fri Nov  5 09:56:15 2021    dedup.txt\n",
      "\n",
      "         47161675 function calls (46540467 primitive calls) in 21.584 seconds\n",
      "\n",
      "   Ordered by: cumulative time\n",
      "   List reduced from 3207 to 20 due to restriction <20>\n",
      "\n",
      "   ncalls  tottime  percall  cumtime  percall filename:lineno(function)\n",
      "    706/1    0.001    0.000   21.585   21.585 {built-in method builtins.exec}\n",
      "        1    0.022    0.022   21.585   21.585 untitled.py:1(<module>)\n",
      "      870    0.012    0.000   16.231    0.019 untitled.py:202(get_neighbours)\n",
      "     1741    0.023    0.000    5.843    0.003 untitled.py:188(get_hashes)\n",
      "      870    0.018    0.000    4.343    0.005 untitled.py:140(LWLF)\n",
      "18348/14835    0.022    0.000    4.110    0.000 /Users/simonpicard/opt/anaconda3/envs/mcae/lib/python3.10/site-packages/pandas/util/_decorators.py:302(wrapper)\n",
      "    43914    0.061    0.000    4.061    0.000 /Users/simonpicard/opt/anaconda3/envs/mcae/lib/python3.10/site-packages/pandas/core/ops/common.py:54(new_method)\n",
      "      870    0.006    0.000    3.697    0.004 untitled.py:124(remove_duplicates)\n",
      "     2611    0.016    0.000    3.285    0.001 /Users/simonpicard/opt/anaconda3/envs/mcae/lib/python3.10/site-packages/pandas/core/groupby/groupby.py:1290(_python_apply_general)\n",
      "123361/122490    0.403    0.000    3.221    0.000 /Users/simonpicard/opt/anaconda3/envs/mcae/lib/python3.10/site-packages/pandas/core/series.py:315(__init__)\n",
      "     1741    0.008    0.000    3.082    0.002 /Users/simonpicard/opt/anaconda3/envs/mcae/lib/python3.10/site-packages/pandas/core/groupby/groupby.py:1241(apply)\n",
      "      870    0.005    0.000    3.081    0.004 untitled.py:43(get_termination_transitions)\n",
      "     2611    0.024    0.000    3.014    0.001 /Users/simonpicard/opt/anaconda3/envs/mcae/lib/python3.10/site-packages/pandas/core/groupby/ops.py:776(apply)\n",
      "    59966    0.148    0.000    2.570    0.000 /Users/simonpicard/opt/anaconda3/envs/mcae/lib/python3.10/site-packages/pandas/core/frame.py:3418(__getitem__)\n",
      "19113/12832    0.033    0.000    2.562    0.000 /Users/simonpicard/opt/anaconda3/envs/mcae/lib/python3.10/site-packages/pandas/core/indexing.py:918(__getitem__)\n",
      "      870    0.009    0.000    2.399    0.003 untitled.py:80(get_critical_transition)\n",
      "    43914    0.077    0.000    2.312    0.000 /Users/simonpicard/opt/anaconda3/envs/mcae/lib/python3.10/site-packages/pandas/core/series.py:2916(_construct_result)\n",
      "     1740    0.007    0.000    2.266    0.001 /Users/simonpicard/opt/anaconda3/envs/mcae/lib/python3.10/site-packages/pandas/core/frame.py:9171(merge)\n",
      "     1741    0.006    0.000    2.259    0.001 /Users/simonpicard/opt/anaconda3/envs/mcae/lib/python3.10/site-packages/pandas/core/reshape/merge.py:89(merge)\n",
      "    24362    0.086    0.000    2.162    0.000 /Users/simonpicard/opt/anaconda3/envs/mcae/lib/python3.10/site-packages/pandas/core/series.py:5492(_cmp_method)\n",
      "\n",
      "\n"
     ]
    },
    {
     "data": {
      "text/plain": [
       "<pstats.Stats at 0x7fc70952f340>"
      ]
     },
     "execution_count": 33,
     "metadata": {},
     "output_type": "execute_result"
    }
   ],
   "source": [
    "import pstats\n",
    "p = pstats.Stats('dedup.txt')\n",
    "p.sort_stats('cumulative').print_stats(20)"
   ]
  },
  {
   "cell_type": "code",
   "execution_count": 34,
   "id": "aea3dfe7-7b82-4a6b-a0dc-0afb56d128a3",
   "metadata": {},
   "outputs": [
    {
     "data": {
      "text/plain": [
       "{'a': 'brol', 1: 150}"
      ]
     },
     "execution_count": 34,
     "metadata": {},
     "output_type": "execute_result"
    }
   ],
   "source": [
    "default_config = {\"a\":\"test\", 1:150}\n",
    "logs_config = {\"a\":\"brol\"}\n",
    "\n",
    "{**default_config, **logs_config}"
   ]
  },
  {
   "cell_type": "code",
   "execution_count": 49,
   "id": "62188c4e-4695-42a8-a775-40a2e899f9e7",
   "metadata": {},
   "outputs": [
    {
     "ename": "NotImplementedError",
     "evalue": "lol",
     "output_type": "error",
     "traceback": [
      "\u001b[0;31m---------------------------------------------------------------------------\u001b[0m",
      "\u001b[0;31mNotImplementedError\u001b[0m                       Traceback (most recent call last)",
      "\u001b[0;32m/var/folders/lr/nrx49w_54md3dfrcjb0y_b580000gn/T/ipykernel_23704/2429715148.py\u001b[0m in \u001b[0;36m<module>\u001b[0;34m\u001b[0m\n\u001b[0;32m----> 1\u001b[0;31m \u001b[0;32mraise\u001b[0m \u001b[0mNotImplementedError\u001b[0m\u001b[0;34m(\u001b[0m\u001b[0;34m\"lol\"\u001b[0m\u001b[0;34m)\u001b[0m\u001b[0;34m\u001b[0m\u001b[0;34m\u001b[0m\u001b[0m\n\u001b[0m",
      "\u001b[0;31mNotImplementedError\u001b[0m: lol"
     ]
    }
   ],
   "source": [
    "raise NotImplementedError(\"lol\")"
   ]
  }
 ],
 "metadata": {
  "kernelspec": {
   "display_name": "Python 3 (ipykernel)",
   "language": "python",
   "name": "python3"
  },
  "language_info": {
   "codemirror_mode": {
    "name": "ipython",
    "version": 3
   },
   "file_extension": ".py",
   "mimetype": "text/x-python",
   "name": "python",
   "nbconvert_exporter": "python",
   "pygments_lexer": "ipython3",
   "version": "3.8.8"
  }
 },
 "nbformat": 4,
 "nbformat_minor": 5
}
